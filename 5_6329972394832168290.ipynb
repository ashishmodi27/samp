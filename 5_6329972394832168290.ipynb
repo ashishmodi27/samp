{
 "cells": [
  {
   "cell_type": "code",
   "execution_count": 1,
   "metadata": {},
   "outputs": [],
   "source": [
    "# Importing module\n",
    "import mysql.connector\n",
    " \n",
    "# Creating connection object\n",
    "conn = mysql.connector.connect(\n",
    "    host = \"localhost\",\n",
    "    port = 3306,\n",
    "    user = \"root\",\n",
    "    password = \"0123456\",\n",
    "    database = 'mysql'\n",
    ")\n",
    "#Creating a cursor object using the cursor() method.\n",
    "cursor = conn.cursor()\n",
    "\n",
    "#Dropping customer table if already exists.\n",
    "cursor.execute(\"drop table if exists customer\")\n",
    "\n",
    "#Creating table as per requirement\n",
    "sql = \"CREATE TABLE customer (customer_id INT NOT NULL,customer_name CHAR(20),city CHAR(20), grade INT, deliveryagent_id INT)\"\n",
    "\n",
    "cursor.execute(sql)"
   ]
  },
  {
   "cell_type": "code",
   "execution_count": 2,
   "metadata": {},
   "outputs": [
    {
     "name": "stdout",
     "output_type": "stream",
     "text": [
      "Data Inserted\n"
     ]
    }
   ],
   "source": [
    "#Preparing SQL query to insert a record  into the database.\n",
    "insert_stmt = (\"INSERT INTO customer (customer_id, customer_name, city, grade, deliveryagent_id)\"\n",
    "                \"VALUES(%s, %s, %s, %s, %s)\"\n",
    "              )\n",
    "data = [\n",
    "     (3002, 'Nick Rimando', 'New York', 100,5001),\n",
    "     (3007, 'Brad Davis', 'New York', 200, 5001),\n",
    "     (3005, 'Graham Zusi', 'California', 200,5002),\n",
    "     (3008, 'Julian Green', 'London', 300, 5002),\n",
    "     (3004, 'Fabian Johnson', 'Paris', 300,5006),\n",
    "     (3009, 'Geoff Cameron', 'Berlin', 200, 5003),\n",
    "     (3003, ' Jozy Altidor', 'Moscow', 100,5007),\n",
    "     (3001, 'Brad Guzan', 'London', 200, 5005),\n",
    "    ]\n",
    "\n",
    "try:\n",
    "    #Executing the SQL command\n",
    "    cursor.execute(insert_stmt, data)\n",
    "    \n",
    "    #Commit your changes in the database\n",
    "    conn.commit()\n",
    "    \n",
    "except:\n",
    "    #Rolling back in case of error\n",
    "    conn.rollback()\n",
    "    \n",
    "print(\"Data Inserted\")"
   ]
  },
  {
   "cell_type": "code",
   "execution_count": 3,
   "metadata": {},
   "outputs": [],
   "source": [
    "#Dropping customer table if already exists.\n",
    "cursor.execute(\"drop table if exists deliveryagent\")\n",
    "\n",
    "#Creating table as per requirement\n",
    "sql = \"CREATE TABLE deliveryagent (deliveryagent_id INT NOT NULL,name CHAR(20),city CHAR(20),commission FLOAT)\"\n",
    "\n",
    "cursor.execute(sql)\n"
   ]
  },
  {
   "cell_type": "code",
   "execution_count": 4,
   "metadata": {},
   "outputs": [
    {
     "name": "stdout",
     "output_type": "stream",
     "text": [
      "Data Inserted\n"
     ]
    }
   ],
   "source": [
    "#Preparing SQL query to insert a record  into the database.\n",
    "insert_stmt = (\"INSERT INTO customer (deliveryagent_id, name, deliveryagent_city, grade, commission)\"\n",
    "                \"VALUES(%s, %s, %s, %s)\"\n",
    "              )\n",
    "data = [\n",
    "     (5001, 'James Hoog', 'New York',0.15),\n",
    "     (5002, ' Nail Knite', 'Paris', 0.13),\n",
    "     (5005, 'Pit Alex', 'London', 0.11),\n",
    "     (5006, 'Mc Lyon', 'Paris', 0.14),\n",
    "     (5007, 'Paul Adam', 'Rome', 0.13),\n",
    "     (5003, 'Lauson Hen', 'San Jose', 0.12),\n",
    "\n",
    "    ]\n",
    "\n",
    "try:\n",
    "    #Executing the SQL command\n",
    "    cursor.execute(insert_stmt, data)\n",
    "    \n",
    "    #Commit your changes in the database\n",
    "    conn.commit()\n",
    "    \n",
    "except:\n",
    "    #Rolling back in case of error\n",
    "    conn.rollback()\n",
    "    \n",
    "print(\"Data Inserted\")\n",
    "\n"
   ]
  },
  {
   "cell_type": "code",
   "execution_count": 8,
   "metadata": {},
   "outputs": [
    {
     "ename": "IntegrityError",
     "evalue": "1052 (23000): Column 'deliveryagent_id' in field list is ambiguous",
     "output_type": "error",
     "traceback": [
      "\u001b[1;31m---------------------------------------------------------------------------\u001b[0m",
      "\u001b[1;31mMySQLInterfaceError\u001b[0m                       Traceback (most recent call last)",
      "\u001b[1;32mC:\\ProgramData\\Anaconda3\\lib\\site-packages\\mysql\\connector\\connection_cext.py\u001b[0m in \u001b[0;36mcmd_query\u001b[1;34m(self, query, raw, buffered, raw_as_string)\u001b[0m\n\u001b[0;32m    506\u001b[0m                 \u001b[0mquery\u001b[0m \u001b[1;33m=\u001b[0m \u001b[0mquery\u001b[0m\u001b[1;33m.\u001b[0m\u001b[0mencode\u001b[0m\u001b[1;33m(\u001b[0m\u001b[1;34m'utf-8'\u001b[0m\u001b[1;33m)\u001b[0m\u001b[1;33m\u001b[0m\u001b[1;33m\u001b[0m\u001b[0m\n\u001b[1;32m--> 507\u001b[1;33m             self._cmysql.query(query,\n\u001b[0m\u001b[0;32m    508\u001b[0m                                \u001b[0mraw\u001b[0m\u001b[1;33m=\u001b[0m\u001b[0mraw\u001b[0m\u001b[1;33m,\u001b[0m \u001b[0mbuffered\u001b[0m\u001b[1;33m=\u001b[0m\u001b[0mbuffered\u001b[0m\u001b[1;33m,\u001b[0m\u001b[1;33m\u001b[0m\u001b[1;33m\u001b[0m\u001b[0m\n",
      "\u001b[1;31mMySQLInterfaceError\u001b[0m: Column 'deliveryagent_id' in field list is ambiguous",
      "\nDuring handling of the above exception, another exception occurred:\n",
      "\u001b[1;31mIntegrityError\u001b[0m                            Traceback (most recent call last)",
      "\u001b[1;32m<ipython-input-8-4d41515ec010>\u001b[0m in \u001b[0;36m<module>\u001b[1;34m\u001b[0m\n\u001b[0;32m      1\u001b[0m \u001b[0mqur\u001b[0m \u001b[1;33m=\u001b[0m \u001b[1;33m(\u001b[0m\u001b[1;34m\"SELECT customer_name,grade, deliveryagent_id, deliveryagent_city FROM customer, deliveryagent WHERE customer.deliveryagent_id=deliveryagent.deliveryagent_id order by a.customer_id\"\u001b[0m\u001b[1;33m)\u001b[0m\u001b[1;33m\u001b[0m\u001b[1;33m\u001b[0m\u001b[0m\n\u001b[0;32m      2\u001b[0m \u001b[1;33m\u001b[0m\u001b[0m\n\u001b[1;32m----> 3\u001b[1;33m \u001b[0mcursor\u001b[0m\u001b[1;33m.\u001b[0m\u001b[0mexecute\u001b[0m\u001b[1;33m(\u001b[0m\u001b[0mqur\u001b[0m\u001b[1;33m)\u001b[0m\u001b[1;33m\u001b[0m\u001b[1;33m\u001b[0m\u001b[0m\n\u001b[0m",
      "\u001b[1;32mC:\\ProgramData\\Anaconda3\\lib\\site-packages\\mysql\\connector\\cursor_cext.py\u001b[0m in \u001b[0;36mexecute\u001b[1;34m(self, operation, params, multi)\u001b[0m\n\u001b[0;32m    272\u001b[0m \u001b[1;33m\u001b[0m\u001b[0m\n\u001b[0;32m    273\u001b[0m         \u001b[1;32mtry\u001b[0m\u001b[1;33m:\u001b[0m\u001b[1;33m\u001b[0m\u001b[1;33m\u001b[0m\u001b[0m\n\u001b[1;32m--> 274\u001b[1;33m             result = self._cnx.cmd_query(stmt, raw=self._raw,\n\u001b[0m\u001b[0;32m    275\u001b[0m                                          \u001b[0mbuffered\u001b[0m\u001b[1;33m=\u001b[0m\u001b[0mself\u001b[0m\u001b[1;33m.\u001b[0m\u001b[0m_buffered\u001b[0m\u001b[1;33m,\u001b[0m\u001b[1;33m\u001b[0m\u001b[1;33m\u001b[0m\u001b[0m\n\u001b[0;32m    276\u001b[0m                                          raw_as_string=self._raw_as_string)\n",
      "\u001b[1;32mC:\\ProgramData\\Anaconda3\\lib\\site-packages\\mysql\\connector\\connection_cext.py\u001b[0m in \u001b[0;36mcmd_query\u001b[1;34m(self, query, raw, buffered, raw_as_string)\u001b[0m\n\u001b[0;32m    509\u001b[0m                                raw_as_string=raw_as_string)\n\u001b[0;32m    510\u001b[0m         \u001b[1;32mexcept\u001b[0m \u001b[0mMySQLInterfaceError\u001b[0m \u001b[1;32mas\u001b[0m \u001b[0mexc\u001b[0m\u001b[1;33m:\u001b[0m\u001b[1;33m\u001b[0m\u001b[1;33m\u001b[0m\u001b[0m\n\u001b[1;32m--> 511\u001b[1;33m             raise errors.get_mysql_exception(exc.errno, msg=exc.msg,\n\u001b[0m\u001b[0;32m    512\u001b[0m                                              sqlstate=exc.sqlstate)\n\u001b[0;32m    513\u001b[0m         \u001b[1;32mexcept\u001b[0m \u001b[0mAttributeError\u001b[0m\u001b[1;33m:\u001b[0m\u001b[1;33m\u001b[0m\u001b[1;33m\u001b[0m\u001b[0m\n",
      "\u001b[1;31mIntegrityError\u001b[0m: 1052 (23000): Column 'deliveryagent_id' in field list is ambiguous"
     ]
    }
   ],
   "source": [
    "qur = (\"SELECT customer_name, city, grade, deliveryagent_id, deliveryagent_city FROM customer, deliveryagent WHERE customer.deliveryagent_id=deliveryagent.deliveryagent_id order by a.customer_id\")\n",
    "\n",
    "cursor.execute(qur)"
   ]
  },
  {
   "cell_type": "code",
   "execution_count": null,
   "metadata": {},
   "outputs": [],
   "source": []
  },
  {
   "cell_type": "code",
   "execution_count": null,
   "metadata": {},
   "outputs": [],
   "source": []
  }
 ],
 "metadata": {
  "kernelspec": {
   "display_name": "Python 3",
   "language": "python",
   "name": "python3"
  },
  "language_info": {
   "codemirror_mode": {
    "name": "ipython",
    "version": 3
   },
   "file_extension": ".py",
   "mimetype": "text/x-python",
   "name": "python",
   "nbconvert_exporter": "python",
   "pygments_lexer": "ipython3",
   "version": "3.8.5"
  }
 },
 "nbformat": 4,
 "nbformat_minor": 4
}
